{
 "cells": [
  {
   "cell_type": "code",
   "metadata": {
    "collapsed": true,
    "ExecuteTime": {
     "end_time": "2024-11-14T12:12:25.470817Z",
     "start_time": "2024-11-14T12:12:25.467333Z"
    }
   },
   "source": [
    "from pyspark.sql import SparkSession, functions as F\n",
    "from pyspark.sql.functions import col, count\n",
    "from pyspark.sql.functions import round"
   ],
   "outputs": [],
   "execution_count": 128
  },
  {
   "cell_type": "code",
   "metadata": {
    "collapsed": false,
    "pycharm": {
     "is_executing": true
    },
    "ExecuteTime": {
     "end_time": "2024-11-14T12:12:58.642023Z",
     "start_time": "2024-11-14T12:12:58.579768Z"
    }
   },
   "source": "spark = SparkSession.builder.master(\"local[*]\").getOrCreate()",
   "outputs": [],
   "execution_count": 132
  },
  {
   "cell_type": "code",
   "metadata": {
    "collapsed": false,
    "ExecuteTime": {
     "end_time": "2024-11-14T12:13:00.178044Z",
     "start_time": "2024-11-14T12:13:00.174173Z"
    }
   },
   "source": [
    "print(spark.version)"
   ],
   "outputs": [
    {
     "name": "stdout",
     "output_type": "stream",
     "text": [
      "3.5.3\n"
     ]
    }
   ],
   "execution_count": 133
  },
  {
   "cell_type": "code",
   "metadata": {
    "collapsed": false,
    "ExecuteTime": {
     "end_time": "2024-11-14T12:13:02.591229Z",
     "start_time": "2024-11-14T12:13:01.594406Z"
    }
   },
   "source": [
    "actor_df = spark.read.csv(\"./data/actor.csv\", header=True, inferSchema=True)\n",
    "address_df = spark.read.csv(\"./data/address.csv\", header=True, inferSchema=True)\n",
    "category_df = spark.read.csv(\"./data/category.csv\", header=True, inferSchema=True)\n",
    "city_df = spark.read.csv(\"./data/city.csv\", header=True, inferSchema=True)\n",
    "country_df = spark.read.csv(\"./data/country.csv\", header=True, inferSchema=True)\n",
    "customer_df = spark.read.csv(\"./data/customer.csv\", header=True, inferSchema=True)\n",
    "film_df = spark.read.csv(\"./data/film.csv\", header=True, inferSchema=True)\n",
    "film_actor_df = spark.read.csv(\"./data/film_actor.csv\", header=True, inferSchema=True)\n",
    "film_category_df = spark.read.csv(\"./data/film_category.csv\", header=True, inferSchema=True)\n",
    "inventory_df = spark.read.csv(\"./data/inventory.csv\", header=True, inferSchema=True)\n",
    "language_df = spark.read.csv(\"./data/language.csv\", header=True, inferSchema=True)\n",
    "payment_df = spark.read.csv(\"./data/payment.csv\", header=True, inferSchema=True)\n",
    "rental_df = spark.read.csv(\"./data/rental.csv\", header=True, inferSchema=True)\n",
    "staff_df = spark.read.csv(\"./data/staff.csv\", header=True, inferSchema=True)\n",
    "store_df = spark.read.csv(\"./data/store.csv\", header=True, inferSchema=True)"
   ],
   "outputs": [],
   "execution_count": 134
  },
  {
   "cell_type": "markdown",
   "metadata": {
    "collapsed": false
   },
   "source": [
    "# Домашнє завдання на тему Spark SQL\n",
    "\n",
    "Задачі з домашнього завдання на SQL потрібно розвʼязати за допомогою Spark SQL DataFrame API.\n",
    "\n",
    "- Дампи таблиць знаходяться в папці `data`. Датафрейми таблиць вже створені в клітинці вище.\n",
    "- Можете створювати стільки нових клітинок, скільки вам необхідно.\n",
    "- Розвʼязок кожної задачі має бути відображений в самому файлі (використати метод `.show()`)\n",
    "- код має бути оформлений у відповідності із одним із стилем, показаним лектором на занятті 13.\n",
    "\n",
    "**Увага!**\n",
    "Використовувати мову запитів SQL безпосередньо забороняється, потрібно використовувати виключно DataFrame API!\n"
   ]
  },
  {
   "cell_type": "markdown",
   "metadata": {
    "collapsed": false
   },
   "source": [
    "1.\n",
    "Вивести кількість фільмів в кожній категорії.\n",
    "Результат відсортувати за спаданням."
   ]
  },
  {
   "cell_type": "code",
   "metadata": {
    "collapsed": false,
    "ExecuteTime": {
     "end_time": "2024-11-14T12:23:19.839697Z",
     "start_time": "2024-11-14T12:23:19.729386Z"
    }
   },
   "source": [
    "count_film_by_category_df = (\n",
    "    film_category_df\n",
    "    .join(category_df, film_category_df[\"category_id\"] == category_df[\"category_id\"])\n",
    "    .groupBy(\"name\")\n",
    "    .count()\n",
    "    .orderBy(col(\"count\").desc())\n",
    "    .show())"
   ],
   "outputs": [
    {
     "name": "stdout",
     "output_type": "stream",
     "text": [
      "+-----------+-----+\n",
      "|       name|count|\n",
      "+-----------+-----+\n",
      "|     Sports|   74|\n",
      "|    Foreign|   73|\n",
      "|     Family|   69|\n",
      "|Documentary|   68|\n",
      "|  Animation|   66|\n",
      "|     Action|   64|\n",
      "|        New|   63|\n",
      "|      Drama|   62|\n",
      "|      Games|   61|\n",
      "|     Sci-Fi|   61|\n",
      "|   Children|   60|\n",
      "|     Comedy|   58|\n",
      "|     Travel|   57|\n",
      "|   Classics|   57|\n",
      "|     Horror|   56|\n",
      "|      Music|   51|\n",
      "+-----------+-----+\n",
      "\n"
     ]
    }
   ],
   "execution_count": 152
  },
  {
   "cell_type": "markdown",
   "metadata": {
    "collapsed": false
   },
   "source": [
    "2.\n",
    "Вивести 10 акторів, чиї фільми брали на прокат найбільше.\n",
    "Результат відсортувати за спаданням."
   ]
  },
  {
   "cell_type": "code",
   "metadata": {
    "collapsed": false,
    "ExecuteTime": {
     "end_time": "2024-11-14T11:36:51.698880Z",
     "start_time": "2024-11-14T11:36:51.507870Z"
    }
   },
   "source": [
    "top_10_actors = (\n",
    "    actor_df\n",
    "    .join(film_actor_df, actor_df[\"actor_id\"] == film_actor_df[\"actor_id\"])\n",
    "    .join(film_df, film_actor_df[\"film_id\"] == film_df[\"film_id\"])\n",
    "    .join(inventory_df, film_df[\"film_id\"] == inventory_df[\"film_id\"])\n",
    "    .join(rental_df, inventory_df[\"inventory_id\"] == rental_df[\"inventory_id\"])\n",
    "    .groupBy(F.concat(actor_df[\"first_name\"], F.lit(\" \"), actor_df[\"last_name\"]).alias(\"actor_full_name\"))\n",
    "    .agg(F.count(rental_df[\"rental_id\"]).alias(\"rental_count\"))\n",
    "    .orderBy(F.desc(\"rental_count\"))\n",
    "    .select(\"actor_full_name\")\n",
    "    .limit(10)\n",
    "    .show()\n",
    ")"
   ],
   "outputs": [
    {
     "name": "stdout",
     "output_type": "stream",
     "text": [
      "+------------------+\n",
      "|   actor_full_name|\n",
      "+------------------+\n",
      "|       SUSAN DAVIS|\n",
      "|    GINA DEGENERES|\n",
      "|    MATTHEW CARREY|\n",
      "|       MARY KEITEL|\n",
      "|ANGELA WITHERSPOON|\n",
      "|       WALTER TORN|\n",
      "|       HENRY BERRY|\n",
      "|       JAYNE NOLTE|\n",
      "|        VAL BOLGER|\n",
      "|     SANDRA KILMER|\n",
      "+------------------+\n",
      "\n"
     ]
    }
   ],
   "execution_count": 72
  },
  {
   "cell_type": "markdown",
   "metadata": {
    "collapsed": false
   },
   "source": [
    "3.\n",
    "Вивести категорія фільмів, на яку було витрачено найбільше грошей\n",
    "в прокаті"
   ]
  },
  {
   "cell_type": "code",
   "metadata": {
    "collapsed": false,
    "ExecuteTime": {
     "end_time": "2024-11-14T11:52:27.834139Z",
     "start_time": "2024-11-14T11:52:27.663948Z"
    }
   },
   "source": [
    "rental_film_df = rental_df.join(inventory_df, rental_df.inventory_id == inventory_df.inventory_id)\n",
    "\n",
    "category_cost = (\n",
    "    rental_film_df\n",
    "    .join(film_category_df, rental_film_df.film_id == film_category_df.film_id)\n",
    "    .join(category_df, film_category_df.category_id == category_df.category_id)\n",
    "    .join(payment_df, rental_df.rental_id == payment_df.rental_id)\n",
    "    .groupBy(\"name\").sum(\"amount\").alias(\"total_cost\")\n",
    ")\n",
    "\n",
    "category_revenue_rounded = (\n",
    "    category_cost\n",
    "    .withColumn(\"total_cost\", round(category_cost[\"sum(amount)\"], 2))\n",
    "    .select(\"name\", \"total_cost\")\n",
    "    .orderBy(\"total_cost\", ascending=False).show(1)\n",
    ")"
   ],
   "outputs": [
    {
     "name": "stdout",
     "output_type": "stream",
     "text": [
      "+------+----------+\n",
      "|  name|total_cost|\n",
      "+------+----------+\n",
      "|Sports|   5314.21|\n",
      "+------+----------+\n",
      "only showing top 1 row\n",
      "\n"
     ]
    }
   ],
   "execution_count": 99
  },
  {
   "cell_type": "markdown",
   "metadata": {
    "collapsed": false
   },
   "source": [
    "4.\n",
    "Вивести назви фільмів, яких не має в inventory."
   ]
  },
  {
   "cell_type": "code",
   "metadata": {
    "collapsed": false,
    "ExecuteTime": {
     "end_time": "2024-11-14T11:52:48.710659Z",
     "start_time": "2024-11-14T11:52:48.624605Z"
    }
   },
   "source": "",
   "outputs": [
    {
     "name": "stdout",
     "output_type": "stream",
     "text": [
      "+--------------------+\n",
      "|               title|\n",
      "+--------------------+\n",
      "|      ALICE FANTASIA|\n",
      "|         APOLLO TEEN|\n",
      "|      ARGONAUTS TOWN|\n",
      "|       ARK RIDGEMONT|\n",
      "|ARSENIC INDEPENDENCE|\n",
      "|   BOONDOCK BALLROOM|\n",
      "|       BUTCH PANTHER|\n",
      "|       CATCH AMISTAD|\n",
      "| CHINATOWN GLADIATOR|\n",
      "|      CHOCOLATE DUCK|\n",
      "|COMMANDMENTS EXPRESS|\n",
      "|    CROSSING DIVORCE|\n",
      "|     CROWDS TELEMARK|\n",
      "|    CRYSTAL BREAKING|\n",
      "|          DAZED PUNK|\n",
      "|DELIVERANCE MULHO...|\n",
      "|   FIREHOUSE VIETNAM|\n",
      "|       FLOATS GARDEN|\n",
      "|FRANKENSTEIN STRA...|\n",
      "|  GLADIATOR WESTWARD|\n",
      "+--------------------+\n",
      "only showing top 20 rows\n",
      "\n"
     ]
    }
   ],
   "execution_count": 100
  },
  {
   "cell_type": "markdown",
   "metadata": {
    "collapsed": false
   },
   "source": [
    "5.\n",
    "Вивести топ 3 актори, які найбільше зʼявлялись в категорії фільмів “Children”"
   ]
  },
  {
   "cell_type": "code",
   "metadata": {
    "collapsed": false,
    "pycharm": {
     "is_executing": true
    },
    "ExecuteTime": {
     "end_time": "2024-11-14T12:21:30.293122Z",
     "start_time": "2024-11-14T12:21:30.181006Z"
    }
   },
   "source": "\n",
   "outputs": [
    {
     "name": "stdout",
     "output_type": "stream",
     "text": [
      "+---------------+\n",
      "|actor_full_name|\n",
      "+---------------+\n",
      "|   HELEN VOIGHT|\n",
      "|     MARY TANDY|\n",
      "|    WHOOPI HURT|\n",
      "+---------------+\n",
      "only showing top 3 rows\n",
      "\n"
     ]
    }
   ],
   "execution_count": 151
  },
  {
   "cell_type": "markdown",
   "metadata": {
    "collapsed": false
   },
   "source": "Stop Spark session:"
  },
  {
   "cell_type": "code",
   "metadata": {
    "collapsed": false,
    "ExecuteTime": {
     "end_time": "2024-11-14T12:12:47.918132Z",
     "start_time": "2024-11-14T12:12:47.408222Z"
    }
   },
   "source": [
    "spark.stop()"
   ],
   "outputs": [],
   "execution_count": 130
  }
 ],
 "metadata": {
  "kernelspec": {
   "display_name": "Python 3",
   "language": "python",
   "name": "python3"
  },
  "language_info": {
   "codemirror_mode": {
    "name": "ipython",
    "version": 2
   },
   "file_extension": ".py",
   "mimetype": "text/x-python",
   "name": "python",
   "nbconvert_exporter": "python",
   "pygments_lexer": "ipython2",
   "version": "2.7.6"
  }
 },
 "nbformat": 4,
 "nbformat_minor": 0
}
